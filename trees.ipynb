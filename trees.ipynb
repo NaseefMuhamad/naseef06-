{
 "cells": [
  {
   "cell_type": "markdown",
   "metadata": {},
   "source": [
    "## TREES\n"
   ]
  },
  {
   "cell_type": "markdown",
   "metadata": {},
   "source": [
    "## LEVEL ORDER TRAVERSAL FOR A BST"
   ]
  },
  {
   "cell_type": "code",
   "execution_count": 2,
   "metadata": {},
   "outputs": [
    {
     "name": "stdout",
     "output_type": "stream",
     "text": [
      "Level-Order Traversal: [[10], [5, 15], [3, 7, 20]]\n"
     ]
    }
   ],
   "source": [
    "from collections import deque  # Import deque for efficient queue operations\n",
    "\n",
    "# Function to create a new node as a dictionary with value, left, and right pointers\n",
    "def create_node(value):\n",
    "    return {\"value\": value, \"left\": None, \"right\": None}\n",
    "\n",
    "# Function to perform level-order traversal of a BST\n",
    "def level_order_traversal(root):\n",
    "    # If the tree is empty, return an empty list\n",
    "    if not root:\n",
    "        return []\n",
    "    \n",
    "    result = []  # List to store the traversal result, level by level\n",
    "    queue = deque([root])  # Initialize queue with the root node\n",
    "    \n",
    "    # Continue until the queue is empty\n",
    "    while queue:\n",
    "        level_size = len(queue)  # Number of nodes at the current level\n",
    "        current_level = []  # List to store values of the current level\n",
    "        \n",
    "        # Process all nodes at the current level\n",
    "        for _ in range(level_size):\n",
    "            node = queue.popleft()  # Remove and get the next node from the queue\n",
    "            current_level.append(node[\"value\"])  # Add node's value to the current level\n",
    "            \n",
    "            # If the node has a left child, add it to the queue\n",
    "            if node[\"left\"]:\n",
    "                queue.append(node[\"left\"])\n",
    "            # If the node has a right child, add it to the queue\n",
    "            if node[\"right\"]:\n",
    "                queue.append(node[\"right\"])\n",
    "        \n",
    "        result.append(current_level)  # Add the completed level to the result\n",
    "    \n",
    "    return result  # Return the list of levels\n",
    "\n",
    "# Example usage: Build a BST manually\n",
    "root = create_node(10)  # Root node with value 10\n",
    "root[\"left\"] = create_node(5)  # Left child of root\n",
    "root[\"right\"] = create_node(15)  # Right child of root\n",
    "root[\"left\"][\"left\"] = create_node(3)  # Left child of node 5\n",
    "root[\"left\"][\"right\"] = create_node(7)  # Right child of node 5\n",
    "root[\"right\"][\"right\"] = create_node(20)  # Right child of node 15\n",
    "\n",
    "# Print the level-order traversal\n",
    "print(\"Level-Order Traversal:\", level_order_traversal(root))\n"
   ]
  },
  {
   "cell_type": "markdown",
   "metadata": {},
   "source": [
    "## LOWEST COMMON ANCESTOR FOR A BST"
   ]
  },
  {
   "cell_type": "code",
   "execution_count": 3,
   "metadata": {},
   "outputs": [
    {
     "name": "stdout",
     "output_type": "stream",
     "text": [
      "LCA of 3 and 7 is: 5\n",
      "LCA of 7 and 20 is: 10\n"
     ]
    }
   ],
   "source": [
    "def find_lca(root, n1, n2):\n",
    "    if not root:\n",
    "        return None\n",
    "    \n",
    "    # If both n1 and n2 are greater than root, LCA is in right subtree\n",
    "    if n1 > root[\"value\"] and n2 > root[\"value\"]:\n",
    "        return find_lca(root[\"right\"], n1, n2)\n",
    "    \n",
    "    # If both n1 and n2 are smaller than root, LCA is in left subtree\n",
    "    if n1 < root[\"value\"] and n2 < root[\"value\"]:\n",
    "        return find_lca(root[\"left\"], n1, n2)\n",
    "    \n",
    "    # If one node is smaller and the other is greater, or one equals root, this is the LCA\n",
    "    return root\n",
    "\n",
    "# Example usage with the same tree\n",
    "n1, n2 = 3, 7\n",
    "lca = find_lca(root, n1, n2)\n",
    "print(f\"LCA of {n1} and {n2} is: {lca['value']}\")  # Output: 5\n",
    "\n",
    "n1, n2 = 7, 20\n",
    "lca = find_lca(root, n1, n2)\n",
    "print(f\"LCA of {n1} and {n2} is: {lca['value']}\")  # Output: 10"
   ]
  },
  {
   "cell_type": "markdown",
   "metadata": {},
   "source": [
    "LCA algorithms are widely used in managing hierarchical data, such as corporate organizational structures, file systems, or phylogenetic trees. Here’s how they apply, particularly in corporate structures:\n",
    "\n",
    "    Corporate Hierarchies: In a company, employees are organized in a tree-like structure where each node represents an employee, and edges represent reporting relationships (e.g., a manager is a parent node). The LCA of two employees is their nearest common manager. For example:\n",
    "\n",
    "        Employee A reports to Manager X, who reports to Director Z.\n",
    "        Employee B reports to Manager Y, who also reports to Director Z.\n",
    "        The LCA of A and B is Director Z, the lowest-level common supervisor.\n",
    "\n",
    "    Applications:\n",
    "\n",
    "        Access Control: Determining the highest authority both employees share to resolve permission disputes.\n",
    "        Communication Flow: Identifying the point where information from two employees converges (e.g., for approvals or escalations).\n",
    "        Organizational Analysis: Measuring distance between employees in the hierarchy or identifying bottlenecks in reporting chains.\n",
    "\n",
    "    Implementation in Practice:\n",
    "    \n",
    "        Database Systems: Hierarchical data is often stored in relational databases using adjacency lists (parent-child relationships) or nested sets. LCA queries can be optimized with precomputed paths or indexing.\n",
    "        Graph Algorithms: In large organizations, LCA can be computed using algorithms like Tarjan’s offline LCA or binary lifting for O(log n) query time after preprocessing.\n",
    "        Real-World Example: Tools like LDAP (Lightweight Directory Access Protocol) use tree structures to manage directories, where LCA-like queries help resolve user-group relationships."
   ]
  }
 ],
 "metadata": {
  "kernelspec": {
   "display_name": "Python 3",
   "language": "python",
   "name": "python3"
  },
  "language_info": {
   "codemirror_mode": {
    "name": "ipython",
    "version": 3
   },
   "file_extension": ".py",
   "mimetype": "text/x-python",
   "name": "python",
   "nbconvert_exporter": "python",
   "pygments_lexer": "ipython3",
   "version": "3.12.2"
  }
 },
 "nbformat": 4,
 "nbformat_minor": 2
}
