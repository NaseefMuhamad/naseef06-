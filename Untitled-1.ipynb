{
 "cells": [
  {
   "cell_type": "code",
   "execution_count": 1,
   "metadata": {},
   "outputs": [
    {
     "name": "stdout",
     "output_type": "stream",
     "text": [
      "element in another index or not in array\n"
     ]
    }
   ],
   "source": [
    "def linear_search(arr,target):\n",
    "    n=len(arr)\n",
    "    for i in range(n):\n",
    "        if arr[i]==target:\n",
    "            return i\n",
    "    return -1\n",
    "arr=[10,27,47,84,92,82,22,34,56,78,87]\n",
    "target=500\n",
    "result=linear_search(arr,target)\n",
    "\n",
    "if result!= -1:\n",
    "    print(f\"the element {target} was found at index {result}\")\n",
    "else:\n",
    "    print(\"element in another index or not in array\")    \n"
   ]
  },
  {
   "cell_type": "code",
   "execution_count": 2,
   "metadata": {},
   "outputs": [
    {
     "name": "stdout",
     "output_type": "stream",
     "text": [
      " the element 80 was found at index 7\n"
     ]
    }
   ],
   "source": [
    "def binary_search(arr,low,high,target):\n",
    "    n=len(arr)\n",
    "    while low<=target:\n",
    "        mid=low+(high-low)//2\n",
    "        if arr[mid]==target:\n",
    "            return mid\n",
    "        elif arr[mid]>target:\n",
    "            high=mid-1\n",
    "        else:\n",
    "            low=mid+1\n",
    "    return -1\n",
    "if __name__=='__main__'  :\n",
    "    arr=[10,20,30,40,50,60,70,80,90,100,200,300]\n",
    "    target=80\n",
    "    result=binary_search(arr,0,len(arr)-1,target)\n",
    "\n",
    "    if result!=-1:\n",
    "        print(f\" the element {target} was found at index {result}\")      \n",
    "    else:\n",
    "        print(\"element not found \")    \n",
    "\n"
   ]
  },
  {
   "cell_type": "code",
   "execution_count": 8,
   "metadata": {},
   "outputs": [
    {
     "name": "stdout",
     "output_type": "stream",
     "text": [
      "original array\n",
      "12,87,9,2,5,78,45,32,22,\n",
      "sorted array\n",
      "2,5,9,12,22,32,45,78,87,\n"
     ]
    }
   ],
   "source": [
    "def selection_sort(arr):\n",
    "    n=len(arr)\n",
    "    for i in range(n-1):\n",
    "        min_i=i\n",
    "        for j in range(i+1,n):\n",
    "            if arr[j]<arr[min_i]:\n",
    "                min_i=j\n",
    "        arr[i],arr[min_i]=arr[min_i],arr[i]\n",
    "def print_arr(arr):\n",
    "    for val in arr:\n",
    "        print(val,end=',')\n",
    "    print()\n",
    "if __name__=='__main__':\n",
    "    arr=[12,87,9,2,5,78,45,32,22]\n",
    "    \n",
    "\n",
    "    print('original array')\n",
    "    print_arr(arr)\n",
    "\n",
    "    selection_sort(arr)        \n",
    "\n",
    "    print(\"sorted array\")\n",
    "    print_arr(arr)                \n"
   ]
  },
  {
   "cell_type": "code",
   "execution_count": 11,
   "metadata": {},
   "outputs": [
    {
     "name": "stdout",
     "output_type": "stream",
     "text": [
      "original array [100, 90, 70, 55, 43, 22, 19]\n",
      "sorted array:\n",
      "19,22,43,55,70,90,100,"
     ]
    }
   ],
   "source": [
    "def bubble_sort(arr):\n",
    "    n=len(arr)\n",
    "    for i in range(n):\n",
    "        swapped=False\n",
    "        for j in range (0,n-i-1):\n",
    "            if arr[j]>arr[j+1]:\n",
    "                \n",
    "                arr[j],arr[j+1]=arr[j+1],arr[j]   \n",
    "                swapped=True\n",
    "        if(swapped==False):\n",
    "            return -1 \n",
    "if __name__=='__main__':\n",
    "    arr=[100,90,70,55,43,22,19]\n",
    "    print(\"original array\",arr)\n",
    "    bubble_sort(arr)\n",
    "    print('sorted array:')\n",
    "    for i in range(len(arr)):\n",
    "        print(arr[i],end=',')\n",
    "\n",
    "\n",
    "\n",
    "            \n",
    "\n",
    "               "
   ]
  },
  {
   "cell_type": "code",
   "execution_count": 15,
   "metadata": {},
   "outputs": [
    {
     "name": "stdout",
     "output_type": "stream",
     "text": [
      "1,2,3,5,8,13,21,34,55,89,144,233,377,610,987,1597,2584,4181,6765,10946,\n"
     ]
    }
   ],
   "source": [
    "\n",
    "n=20\n",
    "num1=0\n",
    "num2=1\n",
    "next=num1+num2\n",
    "count=1\n",
    "while count<=n:\n",
    "    print(next,end=',')\n",
    "    count=count+1\n",
    "    num1,num2=num2,next\n",
    "    next=num1+num2\n",
    "print()    \n",
    "    "
   ]
  },
  {
   "cell_type": "code",
   "execution_count": 12,
   "metadata": {},
   "outputs": [
    {
     "name": "stdout",
     "output_type": "stream",
     "text": [
      "2432902008176640000\n"
     ]
    }
   ],
   "source": [
    "def factorial(n):\n",
    "    if n==0:\n",
    "        return 1\n",
    "    return n*factorial(n-1)\n",
    "num=20\n",
    "print(factorial(20))"
   ]
  }
 ],
 "metadata": {
  "kernelspec": {
   "display_name": "Python 3",
   "language": "python",
   "name": "python3"
  },
  "language_info": {
   "codemirror_mode": {
    "name": "ipython",
    "version": 3
   },
   "file_extension": ".py",
   "mimetype": "text/x-python",
   "name": "python",
   "nbconvert_exporter": "python",
   "pygments_lexer": "ipython3",
   "version": "3.12.2"
  }
 },
 "nbformat": 4,
 "nbformat_minor": 2
}
