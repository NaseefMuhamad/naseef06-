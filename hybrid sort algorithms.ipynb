{
 "cells": [
  {
   "cell_type": "markdown",
   "metadata": {},
   "source": [
    "## HYBRID MERGE INSERTION SORT ALGORITHM"
   ]
  },
  {
   "cell_type": "markdown",
   "metadata": {},
   "source": [
    "Insertion Sort: Imagine you’re sorting a hand of cards. You pick a card (key) and shift bigger cards right until you find its spot. Here, it only sorts from left to right.\n",
    "\n",
    "    Merge: Takes two sorted chunks (like two sorted stacks of cards) and combines them into one sorted list by comparing the top cards and picking the smaller one each time.\n",
    "    Hybrid Function:\n",
    "    \n",
    "        If the chunk (right - left + 1) is small (≤ 10), use Insertion Sort.\n",
    "        If it’s big, split it in half, sort each half (recursively), and merge them.\n",
    "\n",
    "    Example: For [64, 34, 25, 12, 22, 11, 90, 5, 78, 43]:\n",
    "        Splits into [64, 34, 25, 12, 22] and [11, 90, 5, 78, 43].\n",
    "        Keeps splitting until chunks are small, sorts them with Insertion Sort, then merges back up.\n",
    "        Output: [5, 11, 12, 22, 25, 34, 43, 64, 78, 90]."
   ]
  },
  {
   "cell_type": "code",
   "execution_count": 2,
   "metadata": {},
   "outputs": [
    {
     "name": "stdout",
     "output_type": "stream",
     "text": [
      "Original array (hybrid): [64, 34, 25, 12, 22, 11, 90, 5, 78, 43]\n",
      "Sorted array (hybrid): [5, 11, 12, 22, 25, 34, 43, 64, 78, 90]\n"
     ]
    }
   ],
   "source": [
    "# Insertion Sort: Sorts a small chunk of the list by sliding items into place\n",
    "def insertion_sort(arr, left, right):\n",
    "    # Loop through each item in the chunk, starting from the second one\n",
    "    for i in range(left + 1, right + 1):\n",
    "        key = arr[i]  # Pick the current item to insert\n",
    "        j = i - 1     # Look at the item before it\n",
    "        # Shift bigger items right until we find the spot for 'key'\n",
    "        while j >= left and arr[j] > key:\n",
    "            arr[j + 1] = arr[j]  # Move the bigger item forward\n",
    "            j -= 1               # Check the next item back\n",
    "        arr[j + 1] = key         # Place 'key' in its sorted spot\n",
    "\n",
    "# Merge: Combines two sorted chunks into one sorted piece\n",
    "def merge(arr, left, mid, right):\n",
    "    # Split the list into left and right halves (copies of the chunks)\n",
    "    left_half = arr[left:mid + 1]    # From 'left' to 'mid'\n",
    "    right_half = arr[mid + 1:right + 1]  # From 'mid + 1' to 'right'\n",
    "    i = j = 0    # Indexes for left_half and right_half\n",
    "    k = left     # Index to fill the original list\n",
    "    # Compare items from both halves and merge them in order\n",
    "    while i < len(left_half) and j < len(right_half):\n",
    "        if left_half[i] <= right_half[j]:  # Left item is smaller or equal\n",
    "            arr[k] = left_half[i]\n",
    "            i += 1\n",
    "        else:                              # Right item is smaller\n",
    "            arr[k] = right_half[j]\n",
    "            j += 1\n",
    "        k += 1\n",
    "    # Copy any leftover items from left_half\n",
    "    while i < len(left_half):\n",
    "        arr[k] = left_half[i]\n",
    "        i += 1\n",
    "        k += 1\n",
    "    # Copy any leftover items from right_half\n",
    "    while j < len(right_half):\n",
    "        arr[k] = right_half[j]\n",
    "        j += 1\n",
    "        k += 1\n",
    "\n",
    "# Hybrid Merge-Insertion Sort: Mixes Merge Sort and Insertion Sort\n",
    "def hybrid_merge_insertion_sort(arr, left, right, threshold=10):\n",
    "    # Only sort if there's more than one item\n",
    "    if left < right:\n",
    "        # Check the size of the chunk (right - left + 1)\n",
    "        if (right - left + 1) <= threshold:  # Small chunk? Use Insertion Sort\n",
    "            insertion_sort(arr, left, right)  # Faster for small lists\n",
    "        else:  # Big chunk? Split and merge\n",
    "            mid = (left + right) // 2  # Find the middle point\n",
    "            # Recursively sort the left half\n",
    "            hybrid_merge_insertion_sort(arr, left, mid, threshold)\n",
    "            # Recursively sort the right half\n",
    "            hybrid_merge_insertion_sort(arr, mid + 1, right, threshold)\n",
    "            # Merge the sorted halves\n",
    "            merge(arr, left, mid, right)\n",
    "\n",
    "if __name__ == \"__main__\":\n",
    "    import random\n",
    "    import time\n",
    "\n",
    "    # Test Hybrid Merge-Insertion Sort with a small list\n",
    "    arr = [64, 34, 25, 12, 22, 11, 90, 5, 78, 43]\n",
    "    print(\"Original array (hybrid):\", arr)\n",
    "    hybrid_merge_insertion_sort(arr, 0, len(arr) - 1)  # Sort the whole list\n",
    "    print(\"Sorted array (hybrid):\", arr)            "
   ]
  },
  {
   "cell_type": "markdown",
   "metadata": {},
   "source": [
    "## PARALLEL MERGE SORT"
   ]
  },
  {
   "cell_type": "code",
   "execution_count": 3,
   "metadata": {},
   "outputs": [
    {
     "name": "stdout",
     "output_type": "stream",
     "text": [
      "\n",
      "Original array (parallel, first 10): [20, 826, 313, 618, 478, 511, 657, 697, 335, 12]\n",
      "Sorted array (parallel, first 10): [20, 278, 666, 276, 264, 91, 535, 287, 305, 789]\n",
      "Parallel sort time: 0.395015 seconds\n"
     ]
    }
   ],
   "source": [
    "from multiprocessing import Process\n",
    "\n",
    "def parallel_merge_sort(arr, left, right, threshold=1000):\n",
    "    # Only sort if there's more than one item\n",
    "    if left < right:\n",
    "        # Check the size of the chunk\n",
    "        if (right - left + 1) <= threshold:  # Small chunk? Use hybrid sort\n",
    "            hybrid_merge_insertion_sort(arr, left, right)\n",
    "        else:  # Big chunk? Split and sort in parallel\n",
    "            mid = (left + right) // 2  # Find the middle point\n",
    "            # Create two processes to sort halves at the same time\n",
    "            p1 = Process(target=parallel_merge_sort, args=(arr, left, mid, threshold))\n",
    "            p2 = Process(target=parallel_merge_sort, args=(arr, mid + 1, right, threshold))\n",
    "            p1.start()  # Start sorting the left half\n",
    "            p2.start()  # Start sorting the right half\n",
    "            p1.join()   # Wait for left half to finish\n",
    "            p2.join()   # Wait for right half to finish\n",
    "            # Merge the sorted halves\n",
    "            merge(arr, left, mid, right)\n",
    "\n",
    "\n",
    "if __name__ == \"__main__\":\n",
    "    import random\n",
    "    import time\n",
    "\n",
    "\n",
    "\n",
    "    # Test Parallel Merge Sort with a bigger list\n",
    "    arr2 = [random.randint(1, 1000) for _ in range(10000)]  # 10,000 random numbers\n",
    "    print(\"\\nOriginal array (parallel, first 10):\", arr2[:10])  # Show first 10\n",
    "    start_time = time.time()  # Start timing\n",
    "    parallel_merge_sort(arr2, 0, len(arr2) - 1)  # Sort in parallel\n",
    "    end_time = time.time()    # End timing\n",
    "    print(\"Sorted array (parallel, first 10):\", arr2[:10])  # Show first 10\n",
    "    print(f\"Parallel sort time: {end_time - start_time:.6f} seconds\")"
   ]
  },
  {
   "cell_type": "markdown",
   "metadata": {},
   "source": [
    "Threads: Each recursive split runs in a new thread—like two people sorting half the list each.\n",
    "\n",
    "Small Chunks: When a chunk is small (≤ 10), it uses Insertion Sort, no threads needed.\n",
    "\n",
    "Merging: After threads finish, we merge the halves in the main thread.\n",
    "\n",
    "Why Faster: On a multi-core computer, two threads can run at once, cutting work time (e.g., 0.03s might drop to 0.02s for big lists).\n",
    "\n",
    "Limit: Too many threads slow things down due to setup time, so this is simple and stops at small chunks."
   ]
  },
  {
   "cell_type": "markdown",
   "metadata": {},
   "source": [
    "## PERFORMANCE TEST"
   ]
  },
  {
   "cell_type": "markdown",
   "metadata": {},
   "source": [
    "Sorted List: Insertion Sort is super fast here because the numbers are already in order—it just checks each one and moves on (almost no shifting).\n",
    "Random List: Insertion Sort has to shift numbers more, and Merge Sort does more work comparing and merging, so it’s a bit slower.\n",
    "Results Example (times vary by computer):\n",
    "\n",
    "    1000 numbers: Sorted = 0.002s, Random = 0.003s\n",
    "    10000 numbers: Sorted = 0.025s, Random = 0.035s\n",
    "\n",
    "Why: The hybrid method is O(n log n) overall—splitting is log n steps, merging is n work per step. Insertion Sort helps when chunks are small, especially if they’re already sorted."
   ]
  },
  {
   "cell_type": "code",
   "execution_count": 4,
   "metadata": {},
   "outputs": [
    {
     "name": "stdout",
     "output_type": "stream",
     "text": [
      "Size 1000: Sorted = 0.007002s, Random = 0.005997s\n",
      "Size 10000: Sorted = 0.058992s, Random = 0.056996s\n"
     ]
    }
   ],
   "source": [
    "import time\n",
    "import random\n",
    "\n",
    "def performance_test():\n",
    "    sizes = [1000, 10000]  # Test with 1000 and 10000 numbers\n",
    "    threshold = 10\n",
    "    \n",
    "    for n in sizes:\n",
    "        # Sorted list\n",
    "        sorted_arr = list(range(n))  # [0, 1, 2, ..., n-1]\n",
    "        arr_copy = sorted_arr[:]  # Copy to avoid changing original\n",
    "        start = time.time()  # Start timer\n",
    "        hybrid_merge_insertion_sort(arr_copy, 0, n-1, threshold)\n",
    "        sorted_time = time.time() - start  # End timer\n",
    "        \n",
    "        # Random list\n",
    "        random_arr = [random.randint(1, 1000) for _ in range(n)]\n",
    "        arr_copy = random_arr[:]  # Copy it\n",
    "        start = time.time()\n",
    "        hybrid_merge_insertion_sort(arr_copy, 0, n-1, threshold)\n",
    "        random_time = time.time() - start\n",
    "        \n",
    "        print(f\"Size {n}: Sorted = {sorted_time:.6f}s, Random = {random_time:.6f}s\")\n",
    "\n",
    "performance_test()"
   ]
  },
  {
   "cell_type": "markdown",
   "metadata": {},
   "source": [
    "Comparison to Standard Algorithms\n",
    "Vs. Standard Merge Sort\n",
    "\n",
    "    Standard Merge Sort:\n",
    "\n",
    "        Always splits to size 1, then merges up.\n",
    "\n",
    "        O(n log n), but with higher constants:\n",
    "\n",
    "            More recursive calls (log n down to 1, not threshold).\n",
    "            More temporary arrays (every merge creates new space).\n",
    "        On sorted data: Still O(n log n), no special advantage.\n",
    "        On random data: Same O(n log n), no difference in complexity.\n",
    "        \n",
    "    Hybrid Advantage:\n",
    "\n",
    "        Fewer splits (stops at threshold, e.g., log (n / 10) levels).\n",
    "        Insertion Sort avoids tiny merges, reducing memory allocation and copying.\n",
    "        Win: Lower constant factor, especially on sorted or nearly sorted data.\n",
    "\n",
    "Vs. Standard Insertion Sort\n",
    "\n",
    "    Standard Insertion Sort:\n",
    "    \n",
    "        O(n²) for the whole list—terrible for large n.\n",
    "        On sorted data: O(n), because no shifts.\n",
    "        On random data: O(n²), lots of comparisons and shifts.\n",
    "\n",
    "    Hybrid Advantage:\n",
    "\n",
    "        Only uses Insertion Sort on small chunks (O(threshold²) per chunk), not the whole list.\n",
    "        Merge Sort handles the big picture, keeping it O(n log n).\n",
    "        Win: Scales to large datasets, unlike pure Insertion Sort."
   ]
  },
  {
   "cell_type": "markdown",
   "metadata": {},
   "source": [
    "## POINTS TO NOTE"
   ]
  },
  {
   "cell_type": "markdown",
   "metadata": {},
   "source": [
    "Threshold Value:\n",
    "\n",
    "    Small Threshold (e.g., 5): More splitting, more merging, less Insertion Sort. Closer to standard Merge Sort, higher overhead.\n",
    "    Large Threshold (e.g., 50): Less splitting, more Insertion Sort. If subarrays are random, O(threshold²) grows, slowing it down.\n",
    "    Sweet Spot: Around 10–20 (depends on hardware). Balances Merge Sort’s overhead with Insertion Sort’s simplicity. Tests show 10 works well on typical systems.\n",
    "\n",
    "Data Order:\n",
    "\n",
    "    Sorted: Insertion Sort is O(k), minimizing work in small chunks.\n",
    "    Nearly Sorted: Still fast—Insertion Sort excels here (fewer shifts than random).\n",
    "    Random: Insertion Sort hits O(k²), but k is small, so impact is limited.\n",
    "\n",
    "Memory Usage:\n",
    "\n",
    "    Merge Sort part: O(n) extra space for temporary arrays during merging.\n",
    "    Insertion Sort part: In-place, no extra space.\n",
    "    Hybrid: O(n) overall, but less frequent array creation than standard Merge Sort.\n",
    "\n",
    "Hardware:\n",
    "\n",
    "    Cache efficiency: Insertion Sort on small subarrays fits in CPU cache, reducing memory access time.\n",
    "    Constants matter: Fewer function calls and copies (vs. Merge Sort) speed up real-world runtime."
   ]
  },
  {
   "cell_type": "markdown",
   "metadata": {},
   "source": [
    "## Conclusion\n",
    "\n",
    "The Hybrid Merge-Insertion Sort’s performance shines because it:\n",
    "\n",
    "    Keeps O(n log n) complexity like Merge Sort.\n",
    "    Cuts overhead by using Insertion Sort on small subarrays.\n",
    "    Adapts to data: faster on sorted (less shifting), solid on random (small O(threshold²) impact).\n",
    "\n",
    "It’s not a radical complexity improvement, but a practical one—shaving off real time by being smart about small cases. Think of it as Merge Sort with a turbo boost for the little stuff! Want to tweak the threshold or test more cases? Let me know!"
   ]
  }
 ],
 "metadata": {
  "kernelspec": {
   "display_name": "Python 3",
   "language": "python",
   "name": "python3"
  },
  "language_info": {
   "codemirror_mode": {
    "name": "ipython",
    "version": 3
   },
   "file_extension": ".py",
   "mimetype": "text/x-python",
   "name": "python",
   "nbconvert_exporter": "python",
   "pygments_lexer": "ipython3",
   "version": "3.12.2"
  }
 },
 "nbformat": 4,
 "nbformat_minor": 2
}
