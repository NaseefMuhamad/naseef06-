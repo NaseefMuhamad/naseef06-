{
 "cells": [
  {
   "cell_type": "markdown",
   "metadata": {},
   "source": [
    "## ALMUZAHIM NASEEF MUHAMAD S24B38/006 B30296"
   ]
  },
  {
   "cell_type": "markdown",
   "metadata": {},
   "source": [
    "## RECURSION NOTES"
   ]
  },
  {
   "cell_type": "markdown",
   "metadata": {},
   "source": [
    "Recursion is a programming technique where a function calls itself to solve a problem by breaking it down into smaller identical sub-problems until it reaches a simple base case that can be solved directly\n",
    "\n",
    "it is mainly used when dealing with data structures like trees and linked lists.\n"
   ]
  },
  {
   "cell_type": "markdown",
   "metadata": {},
   "source": [
    "## important things to note about recursion in data structures\n",
    "\n",
    "used while breaking down problems. it allows a programmer to divide a problem into smaller sub-problems that are the same but on a smaller scale\n",
    "\n",
    "every recursive function needs a base case that stops the recursion and provides a simple solution to smallest problem instance\n",
    "\n",
    "\n",
    "\n"
   ]
  },
  {
   "cell_type": "markdown",
   "metadata": {},
   "source": [
    "## data structures that use recursion\n",
    "\n",
    "trees and linked lists are best examples that use recursion"
   ]
  },
  {
   "cell_type": "markdown",
   "metadata": {},
   "source": [
    "## Trees\n",
    "\n",
    "trees use tree recursion which is use of recursive algorithm to operate on a tree data structure where it is broken down into smaller subtrees, allowing a function to call itself on each subtree until it reaches its basecase effectively goin through the whole tree by repeatedly processing small parts of it. it is hierachial in nature and each node reprsents a smaller tree with in a larger one"
   ]
  },
  {
   "cell_type": "markdown",
   "metadata": {},
   "source": [
    "## important things to remember\n",
    "\n",
    "a tree can be defined recursively as a root node with zero or more child nodes, where each child node is the root of a subtree.\n",
    "\n",
    "natural fit where since each node in a tree can be considered as a smaller tree itself, the nodes can easily be traversed recursively."
   ]
  },
  {
   "cell_type": "markdown",
   "metadata": {},
   "source": [
    "## examples of tree recursion in data structures\n",
    "\n",
    "tree_ travesral=> the techniques of transversing are divded into depth first traversal and breadth first traversal\n",
    "\n",
    "under depth first traversal we have the following techniques which are  in-order,pre-order and post-order traversals can all be implemented using tree recursion.\n",
    "\n",
    " Inorder traversal  is a type of depth-first search. The idea behind inorder traversal is to visit the left child, then the root node, and finally the right child\n",
    "\n",
    " Postorder traversal is a depth-first search algorithm for a binary search tree that first traverses the left subtree, then the right subtree, and then the root\n",
    "\n",
    " A preorder traversal is a depth-first search that visits the root node first, followed by the left subtree, and then the right subtree. It is called a preorder traversal because the root node is always visited before any of its child nodes\n",
    "\n"
   ]
  },
  {
   "cell_type": "markdown",
   "metadata": {},
   "source": [
    "## how does recursion differ from iteration\n",
    "\n",
    "A program is called recursive when an entity calls itself. A program is called iterative when there is a loop .\n",
    "\n",
    "a recursion terminates through base case, where there will be no function call while an iteration terminates when the termination condition for the iterator ceases to be satisfied.\n",
    "\n",
    "a recursion uses smaller code size while an iteration uses larger code size.\n",
    "\n",
    "a recursion requires very high time complexity while an iteration requires low time complexity."
   ]
  },
  {
   "cell_type": "markdown",
   "metadata": {},
   "source": [
    "## utilization of memory by recursive functions and role of call stack\n",
    "\n",
    "The memory usage of a recursive function is directly proportional to the depth of the recursion. The deeper the recursion, the more memory is used. This is because each recursive call requires its own stack frame to store variables and other information\n",
    "\n",
    "The main role of the stack in recursion is to keep track of function calls and their local states . Each recursive call pushes a new frame onto the stack, and the stack when the base case is reached, returns values from the recursive calls."
   ]
  },
  {
   "cell_type": "markdown",
   "metadata": {},
   "source": [
    "## advantages and disadvantages of the recursion method\n",
    "## advantages\n",
    "\n",
    "Recursion helps in reducing the length of the code.\n",
    "\n",
    "It provides a clean and straightforward way to write the code\n",
    "\n",
    "## disadvantages\n",
    "\n",
    "Recursive functions are a bit slower than non-recursive functions\n",
    "\n",
    "It has more significant space requirements than the iterative programs"
   ]
  },
  {
   "cell_type": "markdown",
   "metadata": {},
   "source": [
    "## When to use recursion instead of iteration\n",
    "\n",
    "Recursion  makes  code cleaner and easier to understand, especially when dealing with problems with a hierarchical or nested structure, such as traversing a file directory, manipulating nested arrays or objects, and solving complex mathematical problems"
   ]
  },
  {
   "cell_type": "markdown",
   "metadata": {},
   "source": [
    "## 2 recursive problems ,code and complexity analysis"
   ]
  },
  {
   "cell_type": "code",
   "execution_count": 1,
   "metadata": {},
   "outputs": [
    {
     "name": "stdout",
     "output_type": "stream",
     "text": [
      "number :  5\n",
      "Factorial :  120\n"
     ]
    }
   ],
   "source": [
    "#factorial of a number using recursion\n",
    "# Python 3 program to find \n",
    "# factorial of given number \n",
    "def factorial(n): \n",
    "\t\n",
    "\t# Checking the number\n",
    "\t# is 1 or 0 then\n",
    "\t# return 1\n",
    "\t# other wise return\n",
    "\t# factorial\n",
    "\tif (n==1 or n==0):\n",
    "\t\t\n",
    "\t\treturn 1\n",
    "\t\n",
    "\telse:\n",
    "\t\t\n",
    "\t\treturn (n * factorial(n - 1)) \n",
    "\n",
    "# Driver Code \n",
    "num = 5; \n",
    "print(\"number : \",num)\n",
    "print(\"Factorial : \",factorial(num))\n"
   ]
  },
  {
   "cell_type": "code",
   "execution_count": 2,
   "metadata": {},
   "outputs": [
    {
     "name": "stdout",
     "output_type": "stream",
     "text": [
      "factorial of 10 is 3628800\n"
     ]
    }
   ],
   "source": [
    "#factorial of number using iteration\n",
    "#factorial time\n",
    "def factorial(n):\n",
    "    number=1\n",
    "    for i in range(2,n+1):\n",
    "        number*=i\n",
    "    return number\n",
    "num=10\n",
    "print(\"factorial of\",num ,\"is\",factorial(num))    \n"
   ]
  },
  {
   "cell_type": "markdown",
   "metadata": {},
   "source": [
    "the time complexity of both recursive and iterative methods is 0(1)\n",
    "\n",
    " Recursive solution requires O(n) extra space for the call stack, while the iterative solution has no overhead of recursive calls and requires only O(1) space"
   ]
  },
  {
   "cell_type": "markdown",
   "metadata": {},
   "source": [
    "## 2.2 Fibonnacci series\n",
    "\n",
    "The Fibonacci sequence is the series of numbers where each number is the sum of the two preceding numbers. For example, 0, 1, 1, 2, 3, 5"
   ]
  },
  {
   "cell_type": "code",
   "execution_count": 3,
   "metadata": {},
   "outputs": [
    {
     "name": "stdout",
     "output_type": "stream",
     "text": [
      "3628800\n"
     ]
    }
   ],
   "source": [
    "#using recursion\n",
    "def factorial(n):\n",
    "    if n==0:\n",
    "        return 1\n",
    "    return n*factorial(n-1)\n",
    "print(factorial(10))"
   ]
  },
  {
   "cell_type": "markdown",
   "metadata": {},
   "source": [
    "## naive recursive approach\n",
    "\n",
    "It is considered inefficient because it often leads to redundant calculations where the same subproblems are solved multiple times, resulting in an exponential time complexity, especially when dealing with problems like the Fibonacci sequence, making it impractical for large input sizes; this inefficiency stems from repeatedly calling the function with the same inputs, causing unnecessary computations. \n"
   ]
  },
  {
   "cell_type": "code",
   "execution_count": 4,
   "metadata": {},
   "outputs": [
    {
     "name": "stdout",
     "output_type": "stream",
     "text": [
      "5\n"
     ]
    }
   ],
   "source": [
    "# Function to calculate the nth Fibonacci number using memoization\n",
    "def nth_fibonacci_util(n, memo):\n",
    "\n",
    "    # Base case: if n is 0 or 1, return n\n",
    "    if n <= 1:\n",
    "        return n\n",
    "\n",
    "    # Check if the result is already in the memo table\n",
    "    if memo[n] != -1:\n",
    "        return memo[n]\n",
    "\n",
    "    # Recursive case: calculate Fibonacci number\n",
    "    # and store it in memo\n",
    "    memo[n] = nth_fibonacci_util(n - 1, memo) + nth_fibonacci_util(n - 2, memo)\n",
    "\n",
    "    return memo[n]\n",
    "\n",
    "\n",
    "# Wrapper function that handles both initialization\n",
    "# and Fibonacci calculation\n",
    "def nth_fibonacci(n):\n",
    "\n",
    "    # Create a memoization table and initialize with -1\n",
    "    memo = [-1] * (n + 1)\n",
    "\n",
    "    # Call the utility function\n",
    "    return nth_fibonacci_util(n, memo)\n",
    "\n",
    "\n",
    "if __name__ == \"__main__\":\n",
    "    n = 5\n",
    "    result = nth_fibonacci(n)\n",
    "    print(result)\n"
   ]
  },
  {
   "cell_type": "markdown",
   "metadata": {},
   "source": [
    "## 2.5 checking of palindromes\n",
    "\n",
    "For a number or string to be palindrome in Python, the number or string must be the same when inverted"
   ]
  },
  {
   "cell_type": "markdown",
   "metadata": {},
   "source": [
    "how to check if a string is a palindrome"
   ]
  },
  {
   "cell_type": "code",
   "execution_count": 5,
   "metadata": {},
   "outputs": [
    {
     "name": "stdout",
     "output_type": "stream",
     "text": [
      "Yes\n"
     ]
    }
   ],
   "source": [
    "# function which return reverse of a string\n",
    "\n",
    "def isPalindrome(s):\n",
    "    return s == s[::-1]\n",
    "\n",
    "\n",
    "# Driver code\n",
    "s = \"malayalam\"\n",
    "ans = isPalindrome(s)\n",
    "\n",
    "if ans:\n",
    "    print(\"Yes\")\n",
    "else:\n",
    "    print(\"No\")\n"
   ]
  },
  {
   "cell_type": "markdown",
   "metadata": {},
   "source": [
    "The base case for checking if a string is a palindrome is when the string has a length of 0 or 1, meaning an empty string or a single character is considered a palindrome by definition; this is because you cannot compare characters beyond the single character in either case. \n"
   ]
  },
  {
   "cell_type": "code",
   "execution_count": 7,
   "metadata": {},
   "outputs": [
    {
     "name": "stdout",
     "output_type": "stream",
     "text": [
      "Yes\n"
     ]
    }
   ],
   "source": [
    "# function to check string is\n",
    "# palindrome or not\n",
    "def isPalindrome(str):\n",
    "\n",
    "    # Run loop from 0 to len/2\n",
    "    for i in range(0, int(len(str)/2)):\n",
    "        if str[i] != str[len(str)-i-1]:\n",
    "            return False\n",
    "    return True\n",
    "\n",
    "# main function\n",
    "s = \"asa\"\n",
    "ans = isPalindrome(s)\n",
    "\n",
    "if (ans):\n",
    "    print(\"Yes\")\n",
    "else:\n",
    "    print(\"No\")\n"
   ]
  },
  {
   "cell_type": "markdown",
   "metadata": {},
   "source": [
    "The time complexity of this code is O(n^2) as there are two recursive calls in each iteration and the loop iterates over all characters of the string. The space complexity is O(n) as the recursive function calls consume space on the call stack"
   ]
  },
  {
   "cell_type": "markdown",
   "metadata": {},
   "source": [
    "## 3 memory usage in recursion"
   ]
  },
  {
   "cell_type": "markdown",
   "metadata": {},
   "source": [
    "recursion utilizes the call stack to store information about each recursive function call, essentially creating a new \"stack frame\" on the stack for every time the function calls itself, which can lead to increased memory usage if the recursion depth becomes large; however, techniques like tail recursion can optimize memory usage by reusing the same stack frame for each call. \n"
   ]
  },
  {
   "cell_type": "markdown",
   "metadata": {},
   "source": [
    "If the recursion is too deep, meaning there are too many recursive calls before reaching the base case, the stack can become full. This is known as a stack overflow. When a stack overflow occurs, the program will typically crash."
   ]
  },
  {
   "cell_type": "markdown",
   "metadata": {},
   "source": [
    "it has a recursion depth of 1000. If   exceeded this limit, it can be increased using the sys.\n",
    "\n",
    " "
   ]
  },
  {
   "cell_type": "markdown",
   "metadata": {},
   "source": [
    "A function is tail recursive when the recursive call is the very last thing it does before returning a value\n",
    "\n",
    "Not all languages or compilers automatically optimize tail recursion. \n",
    "\n",
    "If the function performs any operations after the recursive call, it is no longer considered tail recursive and cannot be optimized. \n",
    "\n",
    "the benefit of Tail-call optimization is that the stack frame used for the current call can be reused for the next recursive call, preventing the stack from growing indefinitely\n",
    "\n"
   ]
  },
  {
   "cell_type": "markdown",
   "metadata": {},
   "source": [
    "## 4 advantages and disadvantages of recursion\n",
    "\n"
   ]
  },
  {
   "cell_type": "markdown",
   "metadata": {},
   "source": [
    "Loops are generally more efficient in terms of performance, and they should be your go-to choice for simple iterations and manipulations on flat data structures"
   ]
  },
  {
   "cell_type": "markdown",
   "metadata": {},
   "source": [
    " it can consume a lot of memory. Every time a stored procedure calls itself, it creates a new instance of the procedure and its variables on the stack. The stack is a limited memory area that stores temporary data for each execution context"
   ]
  },
  {
   "cell_type": "markdown",
   "metadata": {},
   "source": [
    "if your algorithm has to solve all the sub problems of the original problem, then an iterative algorithm is better, because recursive algorithms have an overhead for procedure calls and iterative algorithms don't have that overhead."
   ]
  }
 ],
 "metadata": {
  "kernelspec": {
   "display_name": "Python 3",
   "language": "python",
   "name": "python3"
  },
  "language_info": {
   "codemirror_mode": {
    "name": "ipython",
    "version": 3
   },
   "file_extension": ".py",
   "mimetype": "text/x-python",
   "name": "python",
   "nbconvert_exporter": "python",
   "pygments_lexer": "ipython3",
   "version": "3.12.2"
  }
 },
 "nbformat": 4,
 "nbformat_minor": 2
}
