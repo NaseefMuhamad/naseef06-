{
 "cells": [
  {
   "cell_type": "markdown",
   "metadata": {},
   "source": [
    "## ALMUZAHIM NASEEF MUHAMAD S24B38/006 B30296"
   ]
  },
  {
   "cell_type": "code",
   "execution_count": 1,
   "metadata": {},
   "outputs": [],
   "source": [
    "import numpy as np\n",
    "from scipy import stats\n",
    "import matplotlib.pyplot as plt"
   ]
  },
  {
   "cell_type": "markdown",
   "metadata": {},
   "source": [
    "Performs a two-sample t-test with error checking and mitigation.\n",
    "    \n",
    "    Parameters:\n",
    "    - sample1, sample2: Arrays of sample data\n",
    "    - alpha: Significance level (default 0.05)\n",
    "    - normality_threshold: P-value threshold for normality test\n",
    "    - min_sample_size: Minimum sample size to proceed with t-test\n",
    "    \n",
    "    Returns:\n",
    "    - dict with test results and diagnostics"
   ]
  },
  {
   "cell_type": "code",
   "execution_count": 8,
   "metadata": {},
   "outputs": [
    {
     "name": "stdout",
     "output_type": "stream",
     "text": [
      "Good data result:\n",
      "test_type: Welch's t-test\n",
      "statistic: -0.7886831166680487\n",
      "p_value: 0.4367642496965398\n",
      "alpha: 0.05\n",
      "reject_null: False\n",
      "sample_sizes: (20, 18)\n",
      "normality_p_values: (np.float64(0.8478800044350894), np.float64(0.880836820325634))\n",
      "\n",
      "Bad data result:\n",
      "{'error': \"could not convert string to float: 'not_a_number'\"}\n"
     ]
    }
   ],
   "source": [
    "import numpy as np\n",
    "from scipy import stats\n",
    "import warnings\n",
    "\n",
    "def safe_hypothesis_test(sample1, sample2, alpha=0.05, normality_threshold=0.05, min_sample_size=5):\n",
    "\n",
    "    try:\n",
    "        # Convert inputs to numpy arrays and remove NaNs\n",
    "        sample1 = np.array(sample1, dtype=float)\n",
    "        sample2 = np.array(sample2, dtype=float)\n",
    "        sample1 = sample1[~np.isnan(sample1)]\n",
    "        sample2 = sample2[~np.isnan(sample2)]\n",
    "\n",
    "        \n",
    "        n1, n2 = len(sample1), len(sample2)\n",
    "        if n1 < min_sample_size or n2 < min_sample_size:\n",
    "            raise ValueError(f\"Sample sizes too small: {n1} and {n2}. Need at least {min_sample_size}.\")\n",
    "        \n",
    "        # Check for zero variance\n",
    "        if np.var(sample1) == 0 or np.var(sample2) == 0:\n",
    "            raise ValueError(\"One or both samples have zero variance. T-test not meaningful.\")\n",
    "\n",
    "        # Test normality (Shapiro-Wilk test)\n",
    "        norm1 = stats.shapiro(sample1)\n",
    "        norm2 = stats.shapiro(sample2)\n",
    "        normality_flag = (norm1.pvalue < normality_threshold) or (norm2.pvalue < normality_threshold)\n",
    "        \n",
    "        if normality_flag:\n",
    "            warnings.warn(\"Data may not be normally distributed.\")\n",
    "            # Fallback to Mann-Whitney U test if normality is violated\n",
    "            stat, p_value = stats.mannwhitneyu(sample1, sample2, alternative='two-sided')\n",
    "            test_type = \"Mann-Whitney U (non-parametric)\"\n",
    "        else:\n",
    "            # Performing t-test \n",
    "            stat, p_value = stats.ttest_ind(sample1, sample2, equal_var=False)\n",
    "            test_type = \"Welch's t-test\"\n",
    "\n",
    "        \n",
    "        result = {\n",
    "            \"test_type\": test_type,\n",
    "            \"statistic\": stat,\n",
    "            \"p_value\": p_value,\n",
    "            \"alpha\": alpha,\n",
    "            \"reject_null\": p_value < alpha,\n",
    "            \"sample_sizes\": (n1, n2),\n",
    "            \"normality_p_values\": (norm1.pvalue, norm2.pvalue)\n",
    "        }\n",
    "        \n",
    "        return result\n",
    "\n",
    "    except ValueError as ve:\n",
    "        return {\"error\": str(ve)}\n",
    "    except Exception as e:\n",
    "        return {\"error\": f\"Unexpected error: {str(e)}\"}\n",
    "\n",
    "\n",
    "if __name__ == \"__main__\":\n",
    "    \n",
    "    np.random.seed(42)\n",
    "    sample1 = np.random.normal(100, 10, 20)  # Normal data\n",
    "    sample2 = np.random.normal(105, 15, 18)  # Slightly different normal data\n",
    "    \n",
    "    \n",
    "    sample_bad = [1, 2, np.nan, \"not_a_number\"]  # Will trigger cleaning/errors\n",
    "    \n",
    "    # Run the test\n",
    "    result = safe_hypothesis_test(sample1, sample2)\n",
    "    print(\"Good data result:\")\n",
    "    for key, value in result.items():\n",
    "        print(f\"{key}: {value}\")\n",
    "    \n",
    "    # Test with bad data\n",
    "    result_bad = safe_hypothesis_test(sample_bad, sample2)\n",
    "    print(\"\\nBad data result:\")\n",
    "    print(result_bad)"
   ]
  }
 ],
 "metadata": {
  "kernelspec": {
   "display_name": "Python 3",
   "language": "python",
   "name": "python3"
  },
  "language_info": {
   "codemirror_mode": {
    "name": "ipython",
    "version": 3
   },
   "file_extension": ".py",
   "mimetype": "text/x-python",
   "name": "python",
   "nbconvert_exporter": "python",
   "pygments_lexer": "ipython3",
   "version": "3.12.2"
  }
 },
 "nbformat": 4,
 "nbformat_minor": 2
}
