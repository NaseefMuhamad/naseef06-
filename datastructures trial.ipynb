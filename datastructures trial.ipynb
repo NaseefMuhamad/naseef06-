{
 "cells": [
  {
   "cell_type": "code",
   "execution_count": 21,
   "metadata": {},
   "outputs": [
    {
     "name": "stdout",
     "output_type": "stream",
     "text": [
      "[1, 2, 3, 4, 5, 6, 7, 8]\n",
      "[1, 2, 3, 5, 4, 5, 6, 7, 8]\n",
      "[1, 2, 3, 4, 5, 6, 7, 8]\n",
      "[1, 2, 3, 4, 5, 7, 8]\n",
      "the number is in the array\n",
      "elements currently in the array:\n",
      "1\n",
      "2\n",
      "3\n",
      "4\n",
      "5\n",
      "7\n",
      "8\n"
     ]
    }
   ],
   "source": [
    "array=[1,2,3,4,5,6,7,8]\n",
    "print(array)\n",
    "\n",
    "#inserting data\n",
    "array.insert(3,5)\n",
    "print(array)\n",
    "#deleting data\n",
    "array.remove(5)\n",
    "print(array)\n",
    "del array[5]\n",
    "print(array)\n",
    "#looking for specific data in large or long list\n",
    "\n",
    "if 8 in array:\n",
    "    print(\"the number is in the array\")\n",
    "else:\n",
    "    print(\"not in the array\") \n",
    "\n",
    "#traversing the arrray\n",
    "print(\"elements currently in the array:\")\n",
    "for num in array:\n",
    "    print(num)       "
   ]
  },
  {
   "cell_type": "code",
   "execution_count": 26,
   "metadata": {},
   "outputs": [
    {
     "name": "stdout",
     "output_type": "stream",
     "text": [
      "3\n",
      "9\n"
     ]
    }
   ],
   "source": [
    "array1=[\n",
    "    [1,2,3],\n",
    "    [4,5,6],\n",
    "    [7,8,9]\n",
    "]\n",
    "print(array1[0][2])\n",
    "#printing last element\n",
    "print(array1[-1][-1])\n",
    "\n"
   ]
  },
  {
   "cell_type": "code",
   "execution_count": 32,
   "metadata": {},
   "outputs": [
    {
     "name": "stdout",
     "output_type": "stream",
     "text": [
      "linked_list\n",
      "1->2->3->none\n",
      "1->1.5->2->3->none\n",
      "1->2->3->none\n"
     ]
    }
   ],
   "source": [
    "#linked list\n",
    "# node a structure that contains the following, data(value stored in the node),pointer(reference to the next node)\n",
    "# head the first node to the linked list, tail the last node in a linked list\n",
    "\n",
    "linked_list={\n",
    "    0:(1,1),\n",
    "    1:(2,2),\n",
    "    2:(3,-1)\n",
    "}\n",
    "def display_linked_list():\n",
    "    index=0\n",
    "    while index!=-1:\n",
    "        value,next_index=linked_list[index]\n",
    "        print(value,end=\"->\")\n",
    "        index=next_index\n",
    "    print(\"none\")    \n",
    "print(\"linked_list\")\n",
    "display_linked_list()\n",
    "\n",
    "linked_list[1]=(1.5,2)\n",
    "linked_list[2]=(2,3)\n",
    "linked_list[3]=(3,-1)\n",
    "display_linked_list()\n",
    "#how to remove data from a linked list\n",
    "\n",
    "del linked_list[1]\n",
    "linked_list[0]=(1,2)\n",
    "display_linked_list()"
   ]
  },
  {
   "cell_type": "code",
   "execution_count": 35,
   "metadata": {},
   "outputs": [
    {
     "name": "stdout",
     "output_type": "stream",
     "text": [
      "[1, 2, 3]\n",
      "[1, 2]\n",
      "top most element 2\n"
     ]
    }
   ],
   "source": [
    "#a stack, last in first out(lifo)\n",
    "stack=[]\n",
    "\n",
    "stack.append(1)\n",
    "stack.append(2)\n",
    "stack.append(3)\n",
    "print(stack)\n",
    "#removing elements from a stack\n",
    "stack.pop()\n",
    "print(stack)\n",
    "if stack:\n",
    "    print(\"top most element\",stack[-1])"
   ]
  },
  {
   "cell_type": "code",
   "execution_count": 40,
   "metadata": {},
   "outputs": [
    {
     "name": "stdout",
     "output_type": "stream",
     "text": [
      "queue deque([1, 2, 3])\n",
      "queue is now a list [1, 2, 3]\n",
      "removed element 1\n",
      "front element 2\n"
     ]
    }
   ],
   "source": [
    "from collections import deque\n",
    "\n",
    "queue=deque()\n",
    "queue.append(1)\n",
    "queue.append(2)\n",
    "queue.append(3)\n",
    "print('queue',queue)\n",
    "print('queue is now a list',list(queue))\n",
    "if queue:\n",
    "    removed_element=queue.popleft()\n",
    "    print('removed element',removed_element)\n",
    "if queue:\n",
    "    print('front element',queue[0])    "
   ]
  }
 ],
 "metadata": {
  "kernelspec": {
   "display_name": "Python 3",
   "language": "python",
   "name": "python3"
  },
  "language_info": {
   "codemirror_mode": {
    "name": "ipython",
    "version": 3
   },
   "file_extension": ".py",
   "mimetype": "text/x-python",
   "name": "python",
   "nbconvert_exporter": "python",
   "pygments_lexer": "ipython3",
   "version": "3.12.2"
  }
 },
 "nbformat": 4,
 "nbformat_minor": 2
}
