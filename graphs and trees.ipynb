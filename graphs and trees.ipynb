{
 "cells": [
  {
   "cell_type": "markdown",
   "metadata": {},
   "source": [
    "## ALMUZAHIM NASEEF MUHAMAD S24B38/006 B30296"
   ]
  },
  {
   "cell_type": "markdown",
   "metadata": {},
   "source": [
    "## 1\n",
    "\n",
    "a graph is a non linear data structure that has edged and vertices. the vertices are sometimes referred to as noddes and edges as lines that connect any two nodes in the graph.\n",
    "\n",
    "the graph is denoted as G(V,E).\n",
    "\n",
    "Graphs are used in various fields to represent and solve problems where data consists of objects and relationships between them\n",
    "\n",
    "social networks, each person is a vertex and relationships are edges which connect them\n",
    "\n",
    "maps and navigation, locations like busstop are the vertices and the roads that connect them are the edges\n",
    "\n"
   ]
  },
  {
   "cell_type": "markdown",
   "metadata": {},
   "source": [
    "## graph properties\n",
    "\n",
    "graphs have different properties that include weighted,connected,directed,cyclic and loop.\n",
    "\n",
    "A weighted graph is agraph in which the edges have values. the value can indicate or represent things like distance, time and capacity while unweighted doesnt show the value at the edges\n",
    "\n",
    "a connected graph is a graph in which all the vertices are all connected through the edges in a certain way, one where not all are connected are called disjoint  \n",
    "\n",
    "a directed graph is one where the edges between vertex pairs have direction for the undirected the edges dont show direction\n",
    "\n",
    "a cyclic graph is defined on whether its directed or not;\n",
    "\n",
    "a directed cyclic is one where you can follow a path along the directed edges that go in circles\n",
    "\n",
    "undirected cyclic is one where you can comeback to the same vertex you stsrted without using the same edge more than once\n",
    "\n",
    "an acyclic grapg is one where you can traverse the the graph without ever returning to a previously visited node"
   ]
  },
  {
   "cell_type": "markdown",
   "metadata": {},
   "source": [
    "the major difference comes in due to hierachy and cycles\n",
    "\n",
    "for hierarchial data trees are the best since they have a parent node and roots \n",
    "\n",
    "treees cant have cycles or loops while graphs can hence more desirable in such fields\n",
    "\n",
    "as seen earlier , graphs are best used when representing relationships between entities where connections can be multi-directional, analyzing network structures and finding shortest distance between nodes\n",
    "\n",
    "a tree uis used when there is a clear hierarchial relationship between nodes and also implementing search algorithms where you have traverse through hierarchial structures and also decision trees where each choice leads to a aset of potential outcomes"
   ]
  },
  {
   "cell_type": "markdown",
   "metadata": {},
   "source": [
    "for traversal the time complexity for most operations like traversal (BFS AND DFS)  is O(V+E), V stands for number of nodes and E number of edges meaning each vertex and edge is visted only once and space complexity is O(v) since it involves storing visited vertices in queues or stacks\n",
    "\n",
    "\n",
    "THE Djikstras algorithm has a time complexity of O(ElogV) rfor finding the shortest route from a single source\n",
    "\n",
    "for the binary search tree the average time complexity for search,insert and delete is O(logN) due to balanced tree structure\n",
    "\n",
    "worst case for the binary search tree is O(N) unbalanced tree\n"
   ]
  },
  {
   "cell_type": "markdown",
   "metadata": {},
   "source": [
    "## 2\n",
    "\n",
    "## vertic,edge and degree\n",
    "degree is the total number of edges connected to a vertex in agraph, indegree is the total number of incoming edges connected to a vertex, outdegree total number of outgoing edges connected to a vertex\n",
    "\n",
    "an edge is a connective link between two vertices, each edge has two ends termed as starting and ending vertex\n",
    "\n",
    "a vertex is an entity or real worldobject like busstop\n",
    "\n",
    "## adjacency\n",
    "\n",
    "nodes are adjacent whern an edge connects them\n",
    "\n",
    "## path,cycles and loops\n",
    "\n",
    "a path is a sequence of connceted vertices where no vertex is reperated wheile a cycle is a path that starts and ends at the same vertex forming a closed loop\n",
    "\n",
    "for example a path is taking or mobing from A to B without visiting any intersection morethan once\n",
    "\n",
    "cycle driving from A to B then back to A using the same route without repeating any intersection other than starting point\n",
    "\n",
    "## connectivity\n",
    "\n",
    "this refers to whether every pair of vertices in a graph can be reached  from each other through a path\n",
    "\n",
    "vertex connectivity is the minimum number of vertices that need to be removed to disconnect the graph\n",
    "\n",
    "edge connectivity the minimum number of edges that need to be removed to diconnect a graph\n",
    "\n",
    "in directed graphs a strong connectivity means that there is adirected path from every vertex to every other vertex\n",
    "\n",
    "a weak connectivity occurs when all edges are only unidirectional\n",
    "\n"
   ]
  },
  {
   "cell_type": "markdown",
   "metadata": {},
   "source": [
    "## 3\n",
    "\n",
    "## graph represntation and storage\n",
    "\n",
    "adjacency matrix is a square matrix which shows how vertices in agraph are connected;\n",
    "\n",
    " it works in away that the rows and columns trepresent the vertices of the graph\n",
    "\n",
    " the value of each element indicates whetjer thre is an edge between  the corresponding vertices\n",
    "\n",
    " a value of one indicates and edge and zero indicates no edge\n",
    "\n",
    " the diagonal of the matrix is zero because there are no edges between a node and itself\n",
    "\n",
    " ## uses of adjacency matrix\n",
    "\n",
    " identifying clusters within a graph, finding shortest path betwen nodes in agraph, determining set of nodes that are connected to a given node and also representing weighted graphs\n",
    "\n",
    " "
   ]
  },
  {
   "cell_type": "markdown",
   "metadata": {},
   "source": [
    "## adjacency list\n",
    "\n",
    "is away to represent a graph as a list of list or arrays\n",
    "\n",
    "it works :\n",
    "\n",
    "each vertex has a list of all vertyices it is connected to\n",
    "\n",
    "the  list can be implemented as an array , linked list or dictionary\n",
    "\n",
    "it can be efficiently used to access neighbouring vertices\n",
    "\n"
   ]
  },
  {
   "cell_type": "code",
   "execution_count": null,
   "metadata": {},
   "outputs": [],
   "source": []
  }
 ],
 "metadata": {
  "language_info": {
   "name": "python"
  }
 },
 "nbformat": 4,
 "nbformat_minor": 2
}
