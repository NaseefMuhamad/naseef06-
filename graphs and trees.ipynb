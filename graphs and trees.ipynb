{
 "cells": [
  {
   "cell_type": "markdown",
   "metadata": {},
   "source": [
    "## ALMUZAHIM NASEEF MUHAMAD S24B38/006 B30296"
   ]
  },
  {
   "cell_type": "markdown",
   "metadata": {},
   "source": [
    "## 1\n",
    "\n",
    "a graph is a non linear data structure that has edged and vertices. the vertices are sometimes referred to as noddes and edges as lines that connect any two nodes in the graph.\n",
    "\n",
    "the graph is denoted as G(V,E).\n",
    "\n",
    "Graphs are used in various fields to represent and solve problems where data consists of objects and relationships between them\n",
    "\n",
    "social networks, each person is a vertex and relationships are edges which connect them\n",
    "\n",
    "maps and navigation, locations like busstop are the vertices and the roads that connect them are the edges\n",
    "\n"
   ]
  },
  {
   "cell_type": "markdown",
   "metadata": {},
   "source": [
    "## graph properties\n",
    "\n",
    "graphs have different properties that include weighted,connected,directed,cyclic and loop.\n",
    "\n",
    "A weighted graph is agraph in which the edges have values. the value can indicate or represent things like distance, time and capacity while unweighted doesnt show the value at the edges\n",
    "\n",
    "a connected graph is a graph in which all the vertices are all connected through the edges in a certain way, one where not all are connected are called disjoint  \n",
    "\n",
    "a directed graph is one where the edges between vertex pairs have direction for the undirected the edges dont show direction\n",
    "\n",
    "a cyclic graph is defined on whether its directed or not;\n",
    "\n",
    "a directed cyclic is one where you can follow a path along the directed edges that go in circles\n",
    "\n",
    "undirected cyclic is one where you can comeback to the same vertex you stsrted without using the same edge more than once\n",
    "\n",
    "an acyclic grapg is one where you can traverse the the graph without ever returning to a previously visited node"
   ]
  },
  {
   "cell_type": "markdown",
   "metadata": {},
   "source": [
    "the major difference comes in due to hierachy and cycles\n",
    "\n",
    "for hierarchial data trees are the best since they have a parent node and roots \n",
    "\n",
    "treees cant have cycles or loops while graphs can hence more desirable in such fields\n",
    "\n",
    "as seen earlier , graphs are best used when representing relationships between entities where connections can be multi-directional, analyzing network structures and finding shortest distance between nodes\n",
    "\n",
    "a tree uis used when there is a clear hierarchial relationship between nodes and also implementing search algorithms where you have traverse through hierarchial structures and also decision trees where each choice leads to a aset of potential outcomes"
   ]
  },
  {
   "cell_type": "markdown",
   "metadata": {},
   "source": [
    "for traversal the time complexity for most operations like traversal (BFS AND DFS)  is O(V+E), V stands for number of nodes and E number of edges meaning each vertex and edge is visted only once and space complexity is O(v) since it involves storing visited vertices in queues or stacks\n",
    "\n",
    "\n",
    "THE Djikstras algorithm has a time complexity of O(ElogV) rfor finding the shortest route from a single source\n",
    "\n",
    "for the binary search tree the average time complexity for search,insert and delete is O(logN) due to balanced tree structure\n",
    "\n",
    "worst case for the binary search tree is O(N) unbalanced tree\n"
   ]
  },
  {
   "cell_type": "markdown",
   "metadata": {},
   "source": [
    "## 2\n",
    "\n",
    "## vertic,edge and degree\n",
    "degree is the total number of edges connected to a vertex in agraph, indegree is the total number of incoming edges connected to a vertex, outdegree total number of outgoing edges connected to a vertex\n",
    "\n",
    "an edge is a connective link between two vertices, each edge has two ends termed as starting and ending vertex\n",
    "\n",
    "a vertex is an entity or real worldobject like busstop\n",
    "\n",
    "## adjacency\n",
    "\n",
    "nodes are adjacent whern an edge connects them\n",
    "\n",
    "## path,cycles and loops\n",
    "\n",
    "a path is a sequence of connceted vertices where no vertex is reperated wheile a cycle is a path that starts and ends at the same vertex forming a closed loop\n",
    "\n",
    "for example a path is taking or mobing from A to B without visiting any intersection morethan once\n",
    "\n",
    "cycle driving from A to B then back to A using the same route without repeating any intersection other than starting point\n",
    "\n",
    "## connectivity\n",
    "\n",
    "this refers to whether every pair of vertices in a graph can be reached  from each other through a path\n",
    "\n",
    "vertex connectivity is the minimum number of vertices that need to be removed to disconnect the graph\n",
    "\n",
    "edge connectivity the minimum number of edges that need to be removed to diconnect a graph\n",
    "\n",
    "in directed graphs a strong connectivity means that there is adirected path from every vertex to every other vertex\n",
    "\n",
    "a weak connectivity occurs when all edges are only unidirectional\n",
    "\n"
   ]
  },
  {
   "cell_type": "markdown",
   "metadata": {},
   "source": [
    "## 3\n",
    "\n",
    "## graph represntation and storage\n",
    "\n",
    "adjacency matrix is a square matrix which shows how vertices in agraph are connected;\n",
    "\n",
    " it works in away that the rows and columns trepresent the vertices of the graph\n",
    "\n",
    " the value of each element indicates whetjer thre is an edge between  the corresponding vertices\n",
    "\n",
    " a value of one indicates and edge and zero indicates no edge\n",
    "\n",
    " the diagonal of the matrix is zero because there are no edges between a node and itself\n",
    "\n",
    " ## uses of adjacency matrix\n",
    "\n",
    " identifying clusters within a graph, finding shortest path betwen nodes in agraph, determining set of nodes that are connected to a given node and also representing weighted graphs\n",
    "\n",
    " "
   ]
  },
  {
   "cell_type": "markdown",
   "metadata": {},
   "source": [
    "## adjacency list\n",
    "\n",
    "is away to represent a graph as a list of list or arrays\n",
    "\n",
    "it works :\n",
    "\n",
    "each vertex has a list of all vertyices it is connected to\n",
    "\n",
    "the  list can be implemented as an array , linked list or dictionary\n",
    "\n",
    "it can be efficiently used to access neighbouring vertices\n",
    "\n"
   ]
  },
  {
   "cell_type": "code",
   "execution_count": 1,
   "metadata": {},
   "outputs": [
    {
     "name": "stdout",
     "output_type": "stream",
     "text": [
      "0 -> 1\n",
      "1 -> 2\n",
      "2 -> 0\n",
      "0 -> 1\n",
      "1 -> 2 3\n",
      "2 -> 3\n",
      "3 -> 0\n"
     ]
    }
   ],
   "source": [
    "def adjacency_list_dictionary(V, edges):\n",
    "   \n",
    "    \n",
    "    adjacency_list = {}\n",
    "\n",
    "    # Add vertices to the dictionary\n",
    "    for i in range(V):\n",
    "        adjacency_list[i] = []\n",
    "\n",
    "    # Add edges to the dictionary\n",
    "    for edge in edges:\n",
    "        vertex1, vertex2 = edge\n",
    "        adjacency_list[vertex1].append(vertex2)\n",
    "\n",
    "    # Display the adjacency list\n",
    "    for vertex, neighbors in adjacency_list.items():\n",
    "        print(f\"{vertex} -> {' '.join(map(str, neighbors))}\")\n",
    "\n",
    "\n",
    "# testcase 1\n",
    "V1 = 3\n",
    "edges1 = [[0, 1], [1, 2], [2, 0]]\n",
    "adjacency_list_dictionary(V1, edges1)\n",
    "\n",
    "# testcase 2\n",
    "V2 = 4\n",
    "edges2 = [[0, 1], [1, 2], [1, 3], [2, 3], [3, 0]]\n",
    "adjacency_list_dictionary(V2, edges2)\n"
   ]
  },
  {
   "cell_type": "markdown",
   "metadata": {},
   "source": [
    "its space complexity is O(V+E)"
   ]
  },
  {
   "cell_type": "code",
   "execution_count": 2,
   "metadata": {},
   "outputs": [
    {
     "name": "stdout",
     "output_type": "stream",
     "text": [
      "0 -> 1\n",
      "1 -> 2\n",
      "2 -> 0\n",
      "0 -> 1\n",
      "1 -> 2 3\n",
      "2 -> 3\n",
      "3 -> 0\n"
     ]
    }
   ],
   "source": [
    "from collections import defaultdict\n",
    "\n",
    "def adjacency_list_defaultdict(V, edges):\n",
    "  \n",
    "    adjacency_list = defaultdict(list)\n",
    "\n",
    "    # Add edges to the defaultdict\n",
    "    for edge in edges:\n",
    "        vertex1, vertex2 = edge\n",
    "        adjacency_list[vertex1].append(vertex2)\n",
    "\n",
    "    # Display the adjacency list\n",
    "    for vertex, neighbors in adjacency_list.items():\n",
    "        print(f\"{vertex} -> {' '.join(map(str, neighbors))}\")\n",
    "\n",
    "\n",
    "# test case 1\n",
    "V1 = 3\n",
    "edges1 = [[0, 1], [1, 2], [2, 0]]\n",
    "adjacency_list_defaultdict(V1, edges1)\n",
    "\n",
    "# test case 2\n",
    "V2 = 4\n",
    "edges2 = [[0, 1], [1, 2], [1, 3], [2, 3], [3, 0]]\n",
    "adjacency_list_defaultdict(V2, edges2)\n"
   ]
  },
  {
   "cell_type": "markdown",
   "metadata": {},
   "source": [
    "## 4\n",
    "\n",
    "## GRAPH TRAVERSAL ALGORITHM\n",
    "\n",
    "the breadth first, it first goes through the  nodes horizontally while goin downwards until it visits all nodes\n",
    "\n",
    "the depth firs search is one which starts with first node in the network and continues until desired node is found"
   ]
  },
  {
   "cell_type": "code",
   "execution_count": 4,
   "metadata": {},
   "outputs": [
    {
     "name": "stdout",
     "output_type": "stream",
     "text": [
      "0 2 3 1 4 "
     ]
    }
   ],
   "source": [
    "# Function to find BFS of Graph from given source s for connected graphs\n",
    "def bfsOfGraph(adj, s):\n",
    "    \n",
    "    # get number of vertices\n",
    "    V = len(adj)\n",
    "    \n",
    "    # create an array to store the traversal\n",
    "    res = []\n",
    "    \n",
    "    # Create a queue for BFS\n",
    "    from collections import deque\n",
    "    q = deque()\n",
    "    \n",
    "    # Initially mark all the vertices as not visited\n",
    "    visited = [False] * V\n",
    "    \n",
    "    # Mark source node as visited and enqueue it\n",
    "    visited[s] = True\n",
    "    q.append(s)\n",
    "    \n",
    "    # Iterate over the queue\n",
    "    while q:\n",
    "        \n",
    "        # Dequeue a vertex from queue and store it\n",
    "        curr = q.popleft()\n",
    "        res.append(curr)\n",
    "        \n",
    "        # Get all adjacent vertices of the dequeued \n",
    "        # vertex curr If an adjacent has not been \n",
    "        # visited, mark it visited and enqueue it\n",
    "        for x in adj[curr]:\n",
    "            if not visited[x]:\n",
    "                visited[x] = True\n",
    "                q.append(x)\n",
    "                \n",
    "    return res\n",
    "\n",
    "if __name__ == \"__main__\":\n",
    "    \n",
    "    # create the adjacency list\n",
    "    # [ [2, 3, 1], [0], [0, 4], [0], [2] ]\n",
    "    adj = [ [2, 3, 1], [0], [0, 4], [0], [2] ]\n",
    "    src = 0\n",
    "    ans = bfsOfGraph(adj, src)\n",
    "    for i in ans:\n",
    "        print(i, end=\" \")\n"
   ]
  },
  {
   "cell_type": "markdown",
   "metadata": {},
   "source": [
    "bfs can be used while getting the shortest path\n",
    "\n",
    "can be used in cycle detection\n",
    "\n",
    "in identifying connected components"
   ]
  },
  {
   "cell_type": "code",
   "execution_count": 6,
   "metadata": {},
   "outputs": [
    {
     "name": "stdout",
     "output_type": "stream",
     "text": [
      "DFS from source: 1\n",
      "1 2 0 3 4 "
     ]
    }
   ],
   "source": [
    "def dfs_rec(adj, visited, s):\n",
    "    # Mark the current vertex as visited for connected\n",
    "    visited[s] = True\n",
    "\n",
    "    # Print the current vertex\n",
    "    print(s, end=\" \")\n",
    "\n",
    "    # Recursively visit all adjacent vertices\n",
    "    # that are not visited yet\n",
    "    for i in adj[s]:\n",
    "        if not visited[i]:\n",
    "            dfs_rec(adj, visited, i)\n",
    "\n",
    "\n",
    "def dfs(adj, s):\n",
    "    visited = [False] * len(adj)\n",
    "    # Call the recursive DFS function\n",
    "    dfs_rec(adj, visited, s)\n",
    "\n",
    "def add_edge(adj, s, t):\n",
    "    # Add edge from vertex s to t\n",
    "    adj[s].append(t)\n",
    "    # Due to undirected Graph\n",
    "    adj[t].append(s)\n",
    "    \n",
    "if __name__ == \"__main__\":\n",
    "    V = 5\n",
    "\n",
    "    # Create an adjacency list for the graph\n",
    "    adj = [[] for _ in range(V)]\n",
    "\n",
    "    # Define the edges of the graph\n",
    "    edges = [[1, 2], [1, 0], [2, 0], [2, 3], [2, 4]]\n",
    "\n",
    "    # Populate the adjacency list with edges\n",
    "    for e in edges:\n",
    "        add_edge(adj, e[0], e[1])\n",
    "\n",
    "    source = 1\n",
    "    print(\"DFS from source:\", source)\n",
    "    dfs(adj, source)\n"
   ]
  },
  {
   "cell_type": "markdown",
   "metadata": {},
   "source": [
    "time complexity O(V+E)\n",
    "\n",
    "SPACE COMPLEXITY O(V+E) "
   ]
  },
  {
   "cell_type": "markdown",
   "metadata": {},
   "source": [
    "finding shortest path ion maze"
   ]
  },
  {
   "cell_type": "markdown",
   "metadata": {},
   "source": [
    "## 7\n",
    "\n",
    "## Trees\n",
    "\n",
    "trees use tree recursion which is use of recursive algorithm to operate on a tree data structure where it is broken down into smaller subtrees, allowing a function to call itself on each subtree until it reaches its basecase effectively goin through the whole tree by repeatedly processing small parts of it. it is hierachial in nature and each node reprsents a smaller tree with in a larger one\n",
    "\n",
    "under depth first traversal we have the following techniques which are  in-order,pre-order and post-order traversals can all be implemented using tree recursion.\n",
    "\n",
    " Inorder traversal  is a type of depth-first search. The idea behind inorder traversal is to visit the left child, then the root node, and finally the right child\n",
    "\n",
    " Postorder traversal is a depth-first search algorithm for a binary search tree that first traverses the left subtree, then the right subtree, and then the root\n",
    "\n",
    " A preorder traversal is a depth-first search that visits the root node first, followed by the left subtree, and then the right subtree. It is called a preorder traversal because the root node is always visited before any of its child nodes\n",
    "\n"
   ]
  },
  {
   "cell_type": "markdown",
   "metadata": {},
   "source": [
    "to implementa  DFS use a stack data structure, where you start at a root node, mark it as visited, then explore its adjacent nodes one by one, pushing them onto the stack until you reach a leaf node; then backtrack by popping nodes from the stack and exploring their unvisited neighbors until all nodes are visited. \n"
   ]
  },
  {
   "cell_type": "markdown",
   "metadata": {},
   "source": [
    "## 8 BINARY SEARCH TREES\n",
    "\n",
    "A Binary Search Tree (BST) is a type of Binary Tree data structure, where the following properties must be true for any node \"X\" in the tree:\n",
    "\n",
    "The X node's left child and all of its descendants (children, children's children, and so on) have lower values than X's value.\n",
    "\n",
    "The right child, and all its descendants have higher values than X's value.\n",
    "\n",
    "\n",
    "Left and right subtrees must also be Binary Search Trees\n",
    "\n",
    "\n",
    "\n",
    "How it works:\n",
    "\n",
    "Start at the root node.\n",
    "\n",
    "If this is the value we are looking for, return.\n",
    "\n",
    "If the value we are looking for is higher, continue searching in the right subtree.\n",
    "\n",
    "If the value we are looking for is lower, continue searching in the left subtree.\n",
    "\n",
    "If the subtree we want to search does not exist, depending on the programming language, return None, or NULL, or something similar, to indicate that the value is not inside the BST.\n",
    "\n"
   ]
  },
  {
   "cell_type": "markdown",
   "metadata": {},
   "source": [
    "##  INSERTION,DELETION AND SEARCH\n",
    "\n",
    "Searching involves visiting the node . if the value is equal then we found it\n",
    "\n",
    "if smaller then we visit the left subtree if larger we visit the right subtree\n",
    "\n",
    "## insertion\n",
    "\n",
    "A new key is always inserted at the leaf by maintaining the property of the binary search tree. We start searching for a key from the root until we hit a leaf node. Once a leaf node is found, the new node is added as a child of the leaf node. The below steps are followed while we try to insert a node into a binary search tree:\n",
    "\n",
    "Initilize the current node (say, currNode or node) with root node\n",
    "\n",
    "Compare the key with the current node.\n",
    "\n",
    "Move left if the key is less than or equal to the current node value.\n",
    "\n",
    "Move right if the key is greater than current node value.\n",
    "\n",
    "Repeat steps 2 and 3 until you reach a leaf node.\n",
    "\n",
    "Attach the new key as a left or right child based on the comparison with the leaf node’s value.\n",
    "\n",
    "## deletion\n",
    "\n",
    "Deletion in a Binary Search Tree (BST) is the process of removing a node from the tree while maintaining its properties\n",
    "\n",
    "The node that we are Deleting in the Binary Search Tree is Leaf-Node: simply remove node with its value\n",
    "\n",
    "The node that we are Deleting in Binary Search Tree contains Only one child: make the non null children be root\n",
    "\n",
    "The node that we are Deleting in the Binary Search Tree contains Two children:\n",
    "\n",
    " \n",
    "Find the Node to be deleted.\n",
    "\n",
    "After finding the node that is to be deleted then, consider the temporary root to be the node’s Right children.\n",
    "\n",
    "Now, find the smallest element of the Temporary root(i.e the leftmost Element).\n",
    "    \n",
    "Now, Copy the data of this leftmost element to node data and Delete the leftMost element.\n",
    "\n",
    "Now, the deletion of the Leftmost element would be treated as Leaf Node Deletion.\n",
    "\n"
   ]
  },
  {
   "cell_type": "markdown",
   "metadata": {},
   "source": [
    "## 6 MINIMUM SPAMMING TREES\n",
    "\n",
    "a subset of the edges of a connected, edge-weighted undirected graph that connects all the vertices together, without any cycles and with the minimum possible total edge weight.\n",
    "\n",
    "## Kruskal algorithm\n",
    "\n",
    "In Kruskal’s algorithm, we sort all edges of the given graph in increasing order. Then it keeps on adding new edges and nodes in the MST if the newly added edge does not form a cycle. It picks the minimum weighted edge at first and the maximum weighted edge at last.this is a Greedy Algorithm.\n",
    "\n",
    "Sort all the edges in a non-decreasing order of their weight. \n",
    "\n",
    "Pick the smallest edge. Check if it forms a cycle with the spanning tree formed so far. If the cycle is not formed, include this edge. Else, discard it. \n",
    "\n",
    "Repeat step 2 until there are (V-1) edges in the spanning tree\n",
    "\n",
    "## prims algorithm\n",
    "\n",
    "always starts with a single node and moves through several adjacent nodes, in order to explore all of the connected edges along the way."
   ]
  },
  {
   "cell_type": "markdown",
   "metadata": {},
   "source": [
    "## comparison of prim and kruskal\n",
    "\n",
    "Starting point:\n",
    "\n",
    "Prim's algorithm starts with a single vertex as a root, while Kruskal's starts with the smallest weighted edge. \n",
    "\n",
    "Edge selection:\n",
    "\n",
    "Prim's algorithm selects the minimum weighted edge connecting a vertex already in the MST to a vertex not yet included, while Kruskal's selects the smallest weighted edge that doesn't create a cycle. \n",
    "\n",
    "Data structure:\n",
    "Prim's often uses a priority queue to efficiently find the next minimum edge, while Kruskal's typically uses a disjoint-set data structure to manage connected components. \n",
    "\n",
    "Graph connectivity:\n",
    "Prim's algorithm only works on connected graphs, whereas Kruskal's can handle disconnected graphs and will produce a minimum spanning forest. \n",
    "\n",
    "When to use which:\n",
    "\n",
    "Sparse graphs:\n",
    "Kruskal's algorithm is generally preferred for sparse graphs as it only needs to consider edges once, benefiting from efficient sorting. \n",
    "\n",
    "Dense graphs:\n",
    "Prim's algorithm is often better for dense graphs because it explores adjacent vertices, making it faster when there are many edges. \n",
    "\n",
    "Time Complexity:\n",
    "\n",
    "Kruskal's:\n",
    "    O(E log E) - where E is the number of edges, mainly due to sorting the edges \n",
    "\n",
    "Prim's:\n",
    "O(E log V) - where V is the number of vertices, often improved with a priority queue \n"
   ]
  },
  {
   "cell_type": "markdown",
   "metadata": {},
   "source": [
    "## 5 \n",
    "\n",
    "Dijkstra's algorithm is a computer algorithm that finds the shortest path between nodes in a weighted graph\n",
    "\n",
    "Mark the ending vertex as the current vertex and give it a distance of zero\n",
    "\n",
    "Find all vertices that lead to the current vertex\n",
    "\n",
    "Calculate the distance of each vertex to the end\n",
    "\n",
    "Mark the current vertex as visited\n",
    "\n",
    "Mark the vertex with the smallest distance as the current vertex\n",
    "\n",
    "Repeat steps 2–5 until the desired destination is reached"
   ]
  },
  {
   "cell_type": "markdown",
   "metadata": {},
   "source": [
    "## 11 balanced trees\n",
    "\n",
    "A tree where no leaf is much farther away from the root than any other leaf\n",
    "\n",
    "Balanced trees offer consistent performance guarantees but may require more complex implementation and maintenance. Unbalanced trees, while simpler, can suffer from performance degradation in worst-case scenarios.\n",
    "\n",
    "Balanced binary trees, such as AVL trees and Red-Black trees, maintain their height in logarithmic proportion to the number of nodes. This ensures that fundamental operations like insertion, deletion, and search are executed with O(log n) time complexity.\n",
    "\n",
    "trees are used in tretrieving data from a database\n",
    "\n",
    "O(log n) on average for search, insert, and delete operations in a balanced tree, and O(n) in the worst-case scenario for an unbalanced tree"
   ]
  }
 ],
 "metadata": {
  "kernelspec": {
   "display_name": "Python 3",
   "language": "python",
   "name": "python3"
  },
  "language_info": {
   "codemirror_mode": {
    "name": "ipython",
    "version": 3
   },
   "file_extension": ".py",
   "mimetype": "text/x-python",
   "name": "python",
   "nbconvert_exporter": "python",
   "pygments_lexer": "ipython3",
   "version": "3.12.2"
  }
 },
 "nbformat": 4,
 "nbformat_minor": 2
}
